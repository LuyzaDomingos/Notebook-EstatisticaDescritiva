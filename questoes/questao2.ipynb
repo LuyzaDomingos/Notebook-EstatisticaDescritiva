{
 "cells": [
  {
   "cell_type": "markdown",
   "metadata": {},
   "source": [
    "# Segunda Questão"
   ]
  },
  {
   "cell_type": "markdown",
   "metadata": {},
   "source": [
    "Foi realizada a distribuição de dados dos quais representam os coeficientes de mortalidade geral (por 1000\n",
    "habitantes) em 50 municípios de um determinado estado, no ano de 2015.."
   ]
  },
  {
   "cell_type": "markdown",
   "metadata": {},
   "source": [
    "# Bibliotecas"
   ]
  },
  {
   "cell_type": "markdown",
   "metadata": {},
   "source": [
    "Primeiramente, é necessário realizar a importação das dependências que serão utilizadas no código.\n"
   ]
  },
  {
   "cell_type": "code",
   "execution_count": 1,
   "metadata": {},
   "outputs": [],
   "source": [
    "import pandas as pd\n",
    "import matplotlib.pyplot as plt"
   ]
  },
  {
   "cell_type": "code",
   "execution_count": 14,
   "metadata": {},
   "outputs": [
    {
     "data": {
      "text/html": [
       "<div>\n",
       "<style scoped>\n",
       "    .dataframe tbody tr th:only-of-type {\n",
       "        vertical-align: middle;\n",
       "    }\n",
       "\n",
       "    .dataframe tbody tr th {\n",
       "        vertical-align: top;\n",
       "    }\n",
       "\n",
       "    .dataframe thead th {\n",
       "        text-align: right;\n",
       "    }\n",
       "</style>\n",
       "<table border=\"1\" class=\"dataframe\">\n",
       "  <thead>\n",
       "    <tr style=\"text-align: right;\">\n",
       "      <th></th>\n",
       "      <th>intervalo</th>\n",
       "      <th>frequencia</th>\n",
       "      <th>ponto_medio</th>\n",
       "      <th>fac</th>\n",
       "    </tr>\n",
       "  </thead>\n",
       "  <tbody>\n",
       "    <tr>\n",
       "      <td>0</td>\n",
       "      <td>[4|--8)</td>\n",
       "      <td>8</td>\n",
       "      <td>6.0</td>\n",
       "      <td>8.0</td>\n",
       "    </tr>\n",
       "    <tr>\n",
       "      <td>1</td>\n",
       "      <td>(8|--12)</td>\n",
       "      <td>12</td>\n",
       "      <td>10.0</td>\n",
       "      <td>20.0</td>\n",
       "    </tr>\n",
       "    <tr>\n",
       "      <td>2</td>\n",
       "      <td>(12|--16)</td>\n",
       "      <td>16</td>\n",
       "      <td>14.0</td>\n",
       "      <td>36.0</td>\n",
       "    </tr>\n",
       "    <tr>\n",
       "      <td>3</td>\n",
       "      <td>(16|--20)</td>\n",
       "      <td>6</td>\n",
       "      <td>18.0</td>\n",
       "      <td>42.0</td>\n",
       "    </tr>\n",
       "    <tr>\n",
       "      <td>4</td>\n",
       "      <td>(20|--24]</td>\n",
       "      <td>8</td>\n",
       "      <td>22.0</td>\n",
       "      <td>50.0</td>\n",
       "    </tr>\n",
       "    <tr>\n",
       "      <td>5</td>\n",
       "      <td>Total</td>\n",
       "      <td>50</td>\n",
       "      <td>NaN</td>\n",
       "      <td>NaN</td>\n",
       "    </tr>\n",
       "  </tbody>\n",
       "</table>\n",
       "</div>"
      ],
      "text/plain": [
       "   intervalo  frequencia  ponto_medio   fac\n",
       "0    [4|--8)           8          6.0   8.0\n",
       "1   (8|--12)          12         10.0  20.0\n",
       "2  (12|--16)          16         14.0  36.0\n",
       "3  (16|--20)           6         18.0  42.0\n",
       "4  (20|--24]           8         22.0  50.0\n",
       "5      Total          50          NaN   NaN"
      ]
     },
     "execution_count": 14,
     "metadata": {},
     "output_type": "execute_result"
    }
   ],
   "source": [
    "df = pd.read_csv('q2.csv',delimiter=',')\n",
    "df"
   ]
  },
  {
   "cell_type": "markdown",
   "metadata": {},
   "source": [
    "**a)** Foi construído uma distribuição de frequência divididas em 5 classes com intervalos,da quais  possuem suas respectivas frequências. Esses dados representam a distribuição dos números dos coeficientes de mortalidade em 50 municípios em determinado estado, no ano de 2015.\n",
    "\n",
    "Obs: Foi adicionada também a tabela o **ponto médio** e o **fac(frequência acumulativa)**. O **ponto_medio** é calculado por meio da soma do intervalo dividido por dois. Ex:(4+8)/2 = 6. Já o **fac** é apenas uma soma acumulativa das frequências. "
   ]
  },
  {
   "cell_type": "markdown",
   "metadata": {},
   "source": [
    "\n",
    "**b)** Desenho do histograma"
   ]
  },
  {
   "cell_type": "code",
   "execution_count": 62,
   "metadata": {},
   "outputs": [
    {
     "data": {
      "image/png": "[encoded data removed]",
      "text/plain": [
       "<Figure size 432x288 with 1 Axes>"
      ]
     },
     "metadata": {
      "needs_background": "light"
     },
     "output_type": "display_data"
    }
   ],
   "source": [
    "cef_m = [9, 12, 10, 8,11 ,13, 10, 15, 9 ,7, 14, 12, 9 ,7 ,15, 6 ,4 ,16, 18, 9 ,19, 10 ,20 ,13, 8, 7, 17, 15, 14, 20, 21, 19, 22, 6, 5, 12, 15, 23, 19, 24, 15, 10, 12, 9, 15, 24, 6, 24, 13 ,12]\n",
    "grupo = [4,8,12,16,20,24]\n",
    "plt.hist(cef_m,grupo,rwidth=0.5)\n",
    "plt.xticks(grupo)\n",
    "plt.title(\"Histograma\")\n",
    "plt.xlabel(\"Intervalos\")\n",
    "plt.ylabel(\"Frequência dos coeficientes\")\n",
    "\n",
    "plt.show()\n"
   ]
  },
  {
   "cell_type": "markdown",
   "metadata": {},
   "source": [
    "**c)** Usando o item **a)** , calcule os coeficientes de mortalidade médio, mediano e\n",
    "modal dos municípios."
   ]
  },
  {
   "cell_type": "markdown",
   "metadata": {},
   "source": [
    "O valor da **Média** é calculado por meio de uma média entre  **frequencia e o ponto_medio**. \n",
    "\n",
    "\\begin{equation*}\n",
    "\\bar{x}= \\frac {(8*6)  +  (12*10) + (16*14) + (6*18) + (8*22)}{50} \n",
    "\\end{equation*}\n",
    "\n",
    "E o resultadado da **média = 13,52**\n"
   ]
  },
  {
   "cell_type": "markdown",
   "metadata": {},
   "source": [
    "A **mediana** é calculada por meio da seguinte fórmula: \n",
    "\n",
    "\\begin{equation*}\n",
    "me = Li+\\frac{(\\frac{\\sum freq}{2}-fa)*h}{fintervalo} \n",
    "\\end{equation*}\n",
    "\n",
    "**Li** é o limite inferior do intervalo em que se encontra o valor da mediana(que é 25, já que a soma do **fac** é 50). O intervalo  é (12-16). \n",
    "Já **freq** é o valor total da frequência. Por sua vez, **fa** é o valor da frequência acumulativa anterior ao intervalo e **fintervalo** é o valor da frequência do intervalo. Por fim, o valor de **h** é a subtração dos valores do intervalo em que se encontram a mediana. \n",
    "\n",
    "Substituindo os valores, temos:\n",
    "\n",
    "\\begin{equation*}\n",
    "me = 12+\\frac{(\\frac{50}{2}-20)*4}{16} \n",
    "\\end{equation*}\n",
    "\n",
    "O valor da **mediana**, é igual a **13,25**\n",
    "\n",
    "\n",
    "\n"
   ]
  },
  {
   "cell_type": "markdown",
   "metadata": {},
   "source": [
    "Já a **moda** será calculada por meio da moda de Pearson, já que temos o conhecimento da **média e mediana**.\n",
    "\n",
    "\\begin{equation*}\n",
    "moda= 3*me  - 2*\\bar{x} \n",
    "\\end{equation*}\n",
    "\n",
    "Substituindo os valores, temos:\n",
    "\n",
    "\\begin{equation*}\n",
    "moda= 3*13,25  - 2*13,52 \n",
    "\\end{equation*}\n",
    "\n",
    "Então, temos que o valor da **moda** é igual a **12,71**."
   ]
  }
 ],
 "metadata": {
  "kernelspec": {
   "display_name": "Python 3",
   "language": "python",
   "name": "python3"
  },
  "language_info": {
   "codemirror_mode": {
    "name": "ipython",
    "version": 3
   },
   "file_extension": ".py",
   "mimetype": "text/x-python",
   "name": "python",
   "nbconvert_exporter": "python",
   "pygments_lexer": "ipython3",
   "version": "3.7.4"
  }
 },
 "nbformat": 4,
 "nbformat_minor": 2
}
