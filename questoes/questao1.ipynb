{
 "cells": [
  {
   "cell_type": "markdown",
   "metadata": {},
   "source": [
    "# Primeira Questão"
   ]
  },
  {
   "cell_type": "markdown",
   "metadata": {},
   "source": [
    "A partir de uma tabela que mostra a distribuição de frequência de mulheres, na faixa etária\n",
    "de 25 a 34 anos, em relação a pressão sistólica em milímetros de mercúrio, será respondido algumas questões."
   ]
  },
  {
   "cell_type": "markdown",
   "metadata": {},
   "source": [
    "# Bibliotecas"
   ]
  },
  {
   "cell_type": "markdown",
   "metadata": {},
   "source": [
    "Primeiramente, é necessário realizar a importação das dependências que serão utilizadas no código.\n"
   ]
  },
  {
   "cell_type": "code",
   "execution_count": 12,
   "metadata": {},
   "outputs": [],
   "source": [
    "import pandas as pd\n",
    "import matplotlib.pyplot as plt"
   ]
  },
  {
   "cell_type": "code",
   "execution_count": 22,
   "metadata": {},
   "outputs": [
    {
     "data": {
      "text/html": [
       "<div>\n",
       "<style scoped>\n",
       "    .dataframe tbody tr th:only-of-type {\n",
       "        vertical-align: middle;\n",
       "    }\n",
       "\n",
       "    .dataframe tbody tr th {\n",
       "        vertical-align: top;\n",
       "    }\n",
       "\n",
       "    .dataframe thead th {\n",
       "        text-align: right;\n",
       "    }\n",
       "</style>\n",
       "<table border=\"1\" class=\"dataframe\">\n",
       "  <thead>\n",
       "    <tr style=\"text-align: right;\">\n",
       "      <th></th>\n",
       "      <th>pressao_siatolica(mm de Hg)</th>\n",
       "      <th>frequencia</th>\n",
       "      <th>ponto_medio</th>\n",
       "    </tr>\n",
       "  </thead>\n",
       "  <tbody>\n",
       "    <tr>\n",
       "      <td>0</td>\n",
       "      <td>[80 |--100)</td>\n",
       "      <td>30</td>\n",
       "      <td>90</td>\n",
       "    </tr>\n",
       "    <tr>\n",
       "      <td>1</td>\n",
       "      <td>(100|--120)</td>\n",
       "      <td>80</td>\n",
       "      <td>110</td>\n",
       "    </tr>\n",
       "    <tr>\n",
       "      <td>2</td>\n",
       "      <td>(120|--140)</td>\n",
       "      <td>40</td>\n",
       "      <td>130</td>\n",
       "    </tr>\n",
       "    <tr>\n",
       "      <td>3</td>\n",
       "      <td>(140|--160)</td>\n",
       "      <td>10</td>\n",
       "      <td>150</td>\n",
       "    </tr>\n",
       "    <tr>\n",
       "      <td>4</td>\n",
       "      <td>(160|--180)</td>\n",
       "      <td>4</td>\n",
       "      <td>170</td>\n",
       "    </tr>\n",
       "    <tr>\n",
       "      <td>5</td>\n",
       "      <td>(180|--200]</td>\n",
       "      <td>6</td>\n",
       "      <td>190</td>\n",
       "    </tr>\n",
       "  </tbody>\n",
       "</table>\n",
       "</div>"
      ],
      "text/plain": [
       "  pressao_siatolica(mm de Hg)  frequencia  ponto_medio\n",
       "0                 [80 |--100)          30           90\n",
       "1                 (100|--120)          80          110\n",
       "2                 (120|--140)          40          130\n",
       "3                 (140|--160)          10          150\n",
       "4                 (160|--180)           4          170\n",
       "5                 (180|--200]           6          190"
      ]
     },
     "execution_count": 22,
     "metadata": {},
     "output_type": "execute_result"
    }
   ],
   "source": [
    "df = pd.read_csv('q1.csv',delimiter=',')\n",
    "df"
   ]
  },
  {
   "cell_type": "markdown",
   "metadata": {},
   "source": [
    "Foi realizada a adição do ponto médio a tabela de distribuição. O  **ponto_medio** é a soma entre os intervalos dividido por 2."
   ]
  },
  {
   "cell_type": "markdown",
   "metadata": {},
   "source": [
    "Abaixo se encontra o cálculo da porcentagem de cada frequência a tabela. Essa porcentagem da frequência será adicionada a tabela."
   ]
  },
  {
   "cell_type": "code",
   "execution_count": 23,
   "metadata": {},
   "outputs": [
    {
     "data": {
      "text/html": [
       "<div>\n",
       "<style scoped>\n",
       "    .dataframe tbody tr th:only-of-type {\n",
       "        vertical-align: middle;\n",
       "    }\n",
       "\n",
       "    .dataframe tbody tr th {\n",
       "        vertical-align: top;\n",
       "    }\n",
       "\n",
       "    .dataframe thead th {\n",
       "        text-align: right;\n",
       "    }\n",
       "</style>\n",
       "<table border=\"1\" class=\"dataframe\">\n",
       "  <thead>\n",
       "    <tr style=\"text-align: right;\">\n",
       "      <th></th>\n",
       "      <th>pressao_siatolica(mm de Hg)</th>\n",
       "      <th>frequencia</th>\n",
       "      <th>ponto_medio</th>\n",
       "      <th>porcentagem</th>\n",
       "    </tr>\n",
       "  </thead>\n",
       "  <tbody>\n",
       "    <tr>\n",
       "      <td>0</td>\n",
       "      <td>[80 |--100)</td>\n",
       "      <td>30</td>\n",
       "      <td>90</td>\n",
       "      <td>17.647</td>\n",
       "    </tr>\n",
       "    <tr>\n",
       "      <td>1</td>\n",
       "      <td>(100|--120)</td>\n",
       "      <td>80</td>\n",
       "      <td>110</td>\n",
       "      <td>47.059</td>\n",
       "    </tr>\n",
       "    <tr>\n",
       "      <td>2</td>\n",
       "      <td>(120|--140)</td>\n",
       "      <td>40</td>\n",
       "      <td>130</td>\n",
       "      <td>23.529</td>\n",
       "    </tr>\n",
       "    <tr>\n",
       "      <td>3</td>\n",
       "      <td>(140|--160)</td>\n",
       "      <td>10</td>\n",
       "      <td>150</td>\n",
       "      <td>5.882</td>\n",
       "    </tr>\n",
       "    <tr>\n",
       "      <td>4</td>\n",
       "      <td>(160|--180)</td>\n",
       "      <td>4</td>\n",
       "      <td>170</td>\n",
       "      <td>2.353</td>\n",
       "    </tr>\n",
       "    <tr>\n",
       "      <td>5</td>\n",
       "      <td>(180|--200]</td>\n",
       "      <td>6</td>\n",
       "      <td>190</td>\n",
       "      <td>3.529</td>\n",
       "    </tr>\n",
       "  </tbody>\n",
       "</table>\n",
       "</div>"
      ],
      "text/plain": [
       "  pressao_siatolica(mm de Hg)  frequencia  ponto_medio  porcentagem\n",
       "0                 [80 |--100)          30           90       17.647\n",
       "1                 (100|--120)          80          110       47.059\n",
       "2                 (120|--140)          40          130       23.529\n",
       "3                 (140|--160)          10          150        5.882\n",
       "4                 (160|--180)           4          170        2.353\n",
       "5                 (180|--200]           6          190        3.529"
      ]
     },
     "execution_count": 23,
     "metadata": {},
     "output_type": "execute_result"
    }
   ],
   "source": [
    "df['porcentagem'] = (df['frequencia'] /df['frequencia'].sum() )*100\n",
    "df.round(3)"
   ]
  },
  {
   "cell_type": "markdown",
   "metadata": {},
   "source": [
    "**a)** \n",
    "A percentagem de mulheres que têm pressão igual ou maior que 120mm de Hg é de  **17,64%**\n"
   ]
  },
  {
   "cell_type": "markdown",
   "metadata": {},
   "source": [
    "**b)** O número de mulheres que têm pressão menor que 160 mm de Hg é de **155 mulheres.** Para chegar a essa resposta foram somandos as frequência das linhas _0_ a _3_, sendo a última só sendo considerado metade do valor, ou seja 5. "
   ]
  },
  {
   "cell_type": "markdown",
   "metadata": {},
   "source": [
    "**c)** O número de mulheres (e a percentagem) que têm pressão igual ou maior que\n",
    "100mm de Hg é de **140** com a porcentagem de **82,32%**. Esses resultados advém da soma da frequência e da porcentagem , respectivamente, das linhas _1_ até _5_."
   ]
  },
  {
   "cell_type": "markdown",
   "metadata": {},
   "source": [
    "**d)** A pressão sistólica mais frequente, a partir do cálculo da moda de um agrupamento de dados, é:  "
   ]
  },
  {
   "cell_type": "markdown",
   "metadata": {},
   "source": [
    "\n",
    "\n",
    "\\begin{equation*}\n",
    "Mo = Lmd+ \\frac {D1}{D1+D2} * h\n",
    "\\end{equation*}\n",
    "\n"
   ]
  },
  {
   "cell_type": "markdown",
   "metadata": {},
   "source": [
    "Primeiramente, a classe modal é 80(linha 2). Em relação a fórmula **Lmd** é o limite inferior da classe modal. Já **D1** é a _frequência absoluta menos a frequência anterior da classe modal_. Enquanto **D2** é a _frequência absoluta menos a frequência posterior da classe modal_. Por fim, **h** é a amplitude da classe modal."
   ]
  },
  {
   "cell_type": "markdown",
   "metadata": {},
   "source": [
    "O valor de **Lmd** é 100. O valor de **D1=50**(80-30); **D2=40**(80-40). Sendo assim, o valor de **D1+D2=90**. Já o valor de **h=20**. A fórmula com a substituição dos valores fica da seguinte forma: "
   ]
  },
  {
   "cell_type": "markdown",
   "metadata": {},
   "source": [
    "\n",
    "\\begin{equation*}\n",
    "Mo = 100+ \\frac {50}{90} * 20\n",
    "\\end{equation*}"
   ]
  },
  {
   "cell_type": "markdown",
   "metadata": {},
   "source": [
    "Em que o resultado é **Mo = 111,11** "
   ]
  },
  {
   "cell_type": "markdown",
   "metadata": {},
   "source": [
    "**d)** O desvio padrão e o coeficiente de variação para a pressão sistólica."
   ]
  },
  {
   "cell_type": "markdown",
   "metadata": {},
   "source": [
    "Antes de realizar esses calculos é preciso adicionar alguns valores a tabela de distribuição. **frenquência** receberá mometaneamente a denominação de **fi**, enquanto o **ponto_medio** de **xi**. Será adicionado um coluna(**xi.fi**) que resulta da multiplicação da **frequencia** com o **ponto_medio**."
   ]
  },
  {
   "cell_type": "code",
   "execution_count": 24,
   "metadata": {},
   "outputs": [
    {
     "data": {
      "text/html": [
       "<div>\n",
       "<style scoped>\n",
       "    .dataframe tbody tr th:only-of-type {\n",
       "        vertical-align: middle;\n",
       "    }\n",
       "\n",
       "    .dataframe tbody tr th {\n",
       "        vertical-align: top;\n",
       "    }\n",
       "\n",
       "    .dataframe thead th {\n",
       "        text-align: right;\n",
       "    }\n",
       "</style>\n",
       "<table border=\"1\" class=\"dataframe\">\n",
       "  <thead>\n",
       "    <tr style=\"text-align: right;\">\n",
       "      <th></th>\n",
       "      <th>pressao_siatolica(mm de Hg)</th>\n",
       "      <th>frequencia</th>\n",
       "      <th>ponto_medio</th>\n",
       "      <th>porcentagem</th>\n",
       "      <th>xi.fi</th>\n",
       "    </tr>\n",
       "  </thead>\n",
       "  <tbody>\n",
       "    <tr>\n",
       "      <td>0</td>\n",
       "      <td>[80 |--100)</td>\n",
       "      <td>30</td>\n",
       "      <td>90</td>\n",
       "      <td>17.647</td>\n",
       "      <td>2700</td>\n",
       "    </tr>\n",
       "    <tr>\n",
       "      <td>1</td>\n",
       "      <td>(100|--120)</td>\n",
       "      <td>80</td>\n",
       "      <td>110</td>\n",
       "      <td>47.059</td>\n",
       "      <td>8800</td>\n",
       "    </tr>\n",
       "    <tr>\n",
       "      <td>2</td>\n",
       "      <td>(120|--140)</td>\n",
       "      <td>40</td>\n",
       "      <td>130</td>\n",
       "      <td>23.529</td>\n",
       "      <td>5200</td>\n",
       "    </tr>\n",
       "    <tr>\n",
       "      <td>3</td>\n",
       "      <td>(140|--160)</td>\n",
       "      <td>10</td>\n",
       "      <td>150</td>\n",
       "      <td>5.882</td>\n",
       "      <td>1500</td>\n",
       "    </tr>\n",
       "    <tr>\n",
       "      <td>4</td>\n",
       "      <td>(160|--180)</td>\n",
       "      <td>4</td>\n",
       "      <td>170</td>\n",
       "      <td>2.353</td>\n",
       "      <td>680</td>\n",
       "    </tr>\n",
       "    <tr>\n",
       "      <td>5</td>\n",
       "      <td>(180|--200]</td>\n",
       "      <td>6</td>\n",
       "      <td>190</td>\n",
       "      <td>3.529</td>\n",
       "      <td>1140</td>\n",
       "    </tr>\n",
       "  </tbody>\n",
       "</table>\n",
       "</div>"
      ],
      "text/plain": [
       "  pressao_siatolica(mm de Hg)  frequencia  ponto_medio  porcentagem  xi.fi\n",
       "0                 [80 |--100)          30           90       17.647   2700\n",
       "1                 (100|--120)          80          110       47.059   8800\n",
       "2                 (120|--140)          40          130       23.529   5200\n",
       "3                 (140|--160)          10          150        5.882   1500\n",
       "4                 (160|--180)           4          170        2.353    680\n",
       "5                 (180|--200]           6          190        3.529   1140"
      ]
     },
     "execution_count": 24,
     "metadata": {},
     "output_type": "execute_result"
    }
   ],
   "source": [
    "df['xi.fi'] = df['frequencia']*df['ponto_medio']\n",
    "df.round(3)"
   ]
  },
  {
   "cell_type": "markdown",
   "metadata": {},
   "source": [
    "**xi²** é o resultado do **ponto_medio** ao quadrado. "
   ]
  },
  {
   "cell_type": "code",
   "execution_count": 25,
   "metadata": {},
   "outputs": [
    {
     "data": {
      "text/html": [
       "<div>\n",
       "<style scoped>\n",
       "    .dataframe tbody tr th:only-of-type {\n",
       "        vertical-align: middle;\n",
       "    }\n",
       "\n",
       "    .dataframe tbody tr th {\n",
       "        vertical-align: top;\n",
       "    }\n",
       "\n",
       "    .dataframe thead th {\n",
       "        text-align: right;\n",
       "    }\n",
       "</style>\n",
       "<table border=\"1\" class=\"dataframe\">\n",
       "  <thead>\n",
       "    <tr style=\"text-align: right;\">\n",
       "      <th></th>\n",
       "      <th>pressao_siatolica(mm de Hg)</th>\n",
       "      <th>frequencia</th>\n",
       "      <th>ponto_medio</th>\n",
       "      <th>porcentagem</th>\n",
       "      <th>xi.fi</th>\n",
       "      <th>xi²</th>\n",
       "    </tr>\n",
       "  </thead>\n",
       "  <tbody>\n",
       "    <tr>\n",
       "      <td>0</td>\n",
       "      <td>[80 |--100)</td>\n",
       "      <td>30</td>\n",
       "      <td>90</td>\n",
       "      <td>17.647</td>\n",
       "      <td>2700</td>\n",
       "      <td>8100</td>\n",
       "    </tr>\n",
       "    <tr>\n",
       "      <td>1</td>\n",
       "      <td>(100|--120)</td>\n",
       "      <td>80</td>\n",
       "      <td>110</td>\n",
       "      <td>47.059</td>\n",
       "      <td>8800</td>\n",
       "      <td>12100</td>\n",
       "    </tr>\n",
       "    <tr>\n",
       "      <td>2</td>\n",
       "      <td>(120|--140)</td>\n",
       "      <td>40</td>\n",
       "      <td>130</td>\n",
       "      <td>23.529</td>\n",
       "      <td>5200</td>\n",
       "      <td>16900</td>\n",
       "    </tr>\n",
       "    <tr>\n",
       "      <td>3</td>\n",
       "      <td>(140|--160)</td>\n",
       "      <td>10</td>\n",
       "      <td>150</td>\n",
       "      <td>5.882</td>\n",
       "      <td>1500</td>\n",
       "      <td>22500</td>\n",
       "    </tr>\n",
       "    <tr>\n",
       "      <td>4</td>\n",
       "      <td>(160|--180)</td>\n",
       "      <td>4</td>\n",
       "      <td>170</td>\n",
       "      <td>2.353</td>\n",
       "      <td>680</td>\n",
       "      <td>28900</td>\n",
       "    </tr>\n",
       "    <tr>\n",
       "      <td>5</td>\n",
       "      <td>(180|--200]</td>\n",
       "      <td>6</td>\n",
       "      <td>190</td>\n",
       "      <td>3.529</td>\n",
       "      <td>1140</td>\n",
       "      <td>36100</td>\n",
       "    </tr>\n",
       "  </tbody>\n",
       "</table>\n",
       "</div>"
      ],
      "text/plain": [
       "  pressao_siatolica(mm de Hg)  frequencia  ponto_medio  porcentagem  xi.fi  \\\n",
       "0                 [80 |--100)          30           90       17.647   2700   \n",
       "1                 (100|--120)          80          110       47.059   8800   \n",
       "2                 (120|--140)          40          130       23.529   5200   \n",
       "3                 (140|--160)          10          150        5.882   1500   \n",
       "4                 (160|--180)           4          170        2.353    680   \n",
       "5                 (180|--200]           6          190        3.529   1140   \n",
       "\n",
       "     xi²  \n",
       "0   8100  \n",
       "1  12100  \n",
       "2  16900  \n",
       "3  22500  \n",
       "4  28900  \n",
       "5  36100  "
      ]
     },
     "execution_count": 25,
     "metadata": {},
     "output_type": "execute_result"
    }
   ],
   "source": [
    "df['xi²'] = (df['ponto_medio']*df['ponto_medio'])\n",
    "df.round(3)"
   ]
  },
  {
   "cell_type": "markdown",
   "metadata": {},
   "source": [
    "**xi².fi** é a multiplicação da frequência pelo quadrado do ponto médio."
   ]
  },
  {
   "cell_type": "code",
   "execution_count": 26,
   "metadata": {},
   "outputs": [
    {
     "data": {
      "text/html": [
       "<div>\n",
       "<style scoped>\n",
       "    .dataframe tbody tr th:only-of-type {\n",
       "        vertical-align: middle;\n",
       "    }\n",
       "\n",
       "    .dataframe tbody tr th {\n",
       "        vertical-align: top;\n",
       "    }\n",
       "\n",
       "    .dataframe thead th {\n",
       "        text-align: right;\n",
       "    }\n",
       "</style>\n",
       "<table border=\"1\" class=\"dataframe\">\n",
       "  <thead>\n",
       "    <tr style=\"text-align: right;\">\n",
       "      <th></th>\n",
       "      <th>pressao_siatolica(mm de Hg)</th>\n",
       "      <th>frequencia</th>\n",
       "      <th>ponto_medio</th>\n",
       "      <th>porcentagem</th>\n",
       "      <th>xi.fi</th>\n",
       "      <th>xi²</th>\n",
       "      <th>xi².fi</th>\n",
       "    </tr>\n",
       "  </thead>\n",
       "  <tbody>\n",
       "    <tr>\n",
       "      <td>0</td>\n",
       "      <td>[80 |--100)</td>\n",
       "      <td>30</td>\n",
       "      <td>90</td>\n",
       "      <td>17.647059</td>\n",
       "      <td>2700</td>\n",
       "      <td>8100</td>\n",
       "      <td>243000</td>\n",
       "    </tr>\n",
       "    <tr>\n",
       "      <td>1</td>\n",
       "      <td>(100|--120)</td>\n",
       "      <td>80</td>\n",
       "      <td>110</td>\n",
       "      <td>47.058824</td>\n",
       "      <td>8800</td>\n",
       "      <td>12100</td>\n",
       "      <td>968000</td>\n",
       "    </tr>\n",
       "    <tr>\n",
       "      <td>2</td>\n",
       "      <td>(120|--140)</td>\n",
       "      <td>40</td>\n",
       "      <td>130</td>\n",
       "      <td>23.529412</td>\n",
       "      <td>5200</td>\n",
       "      <td>16900</td>\n",
       "      <td>676000</td>\n",
       "    </tr>\n",
       "    <tr>\n",
       "      <td>3</td>\n",
       "      <td>(140|--160)</td>\n",
       "      <td>10</td>\n",
       "      <td>150</td>\n",
       "      <td>5.882353</td>\n",
       "      <td>1500</td>\n",
       "      <td>22500</td>\n",
       "      <td>225000</td>\n",
       "    </tr>\n",
       "    <tr>\n",
       "      <td>4</td>\n",
       "      <td>(160|--180)</td>\n",
       "      <td>4</td>\n",
       "      <td>170</td>\n",
       "      <td>2.352941</td>\n",
       "      <td>680</td>\n",
       "      <td>28900</td>\n",
       "      <td>115600</td>\n",
       "    </tr>\n",
       "    <tr>\n",
       "      <td>5</td>\n",
       "      <td>(180|--200]</td>\n",
       "      <td>6</td>\n",
       "      <td>190</td>\n",
       "      <td>3.529412</td>\n",
       "      <td>1140</td>\n",
       "      <td>36100</td>\n",
       "      <td>216600</td>\n",
       "    </tr>\n",
       "  </tbody>\n",
       "</table>\n",
       "</div>"
      ],
      "text/plain": [
       "  pressao_siatolica(mm de Hg)  frequencia  ponto_medio  porcentagem  xi.fi  \\\n",
       "0                 [80 |--100)          30           90    17.647059   2700   \n",
       "1                 (100|--120)          80          110    47.058824   8800   \n",
       "2                 (120|--140)          40          130    23.529412   5200   \n",
       "3                 (140|--160)          10          150     5.882353   1500   \n",
       "4                 (160|--180)           4          170     2.352941    680   \n",
       "5                 (180|--200]           6          190     3.529412   1140   \n",
       "\n",
       "     xi²  xi².fi  \n",
       "0   8100  243000  \n",
       "1  12100  968000  \n",
       "2  16900  676000  \n",
       "3  22500  225000  \n",
       "4  28900  115600  \n",
       "5  36100  216600  "
      ]
     },
     "execution_count": 26,
     "metadata": {},
     "output_type": "execute_result"
    }
   ],
   "source": [
    "df['xi².fi'] = (df['xi²']*df['frequencia'])\n",
    "df"
   ]
  },
  {
   "cell_type": "markdown",
   "metadata": {},
   "source": [
    "A fórmula utilizada para calcular o desvio padrão é a seguinte: "
   ]
  },
  {
   "cell_type": "markdown",
   "metadata": {},
   "source": [
    "\\begin{equation*}\n",
    "d = \\sqrt{ \\frac{1}{N}*[ \\sum (xi².fi) - \\frac{(\\sum xi.fi)²}{N} ]}\n",
    "\\end{equation*}\n"
   ]
  },
  {
   "cell_type": "markdown",
   "metadata": {},
   "source": [
    "Substituindo os valores na equação, em que N é o valor total da **frequencia**. Temos: "
   ]
  },
  {
   "cell_type": "markdown",
   "metadata": {},
   "source": [
    "\\begin{equation*}\n",
    "d = \\sqrt{ \\frac{1}{170}*[ 2444200 - (\\frac{(20020)²}{170}) ]}\n",
    "\\end{equation*}\n"
   ]
  },
  {
   "cell_type": "markdown",
   "metadata": {},
   "source": [
    "O resultado dessa equação é **22,56**. Ou seja, desvio padrão = **22,56**."
   ]
  },
  {
   "cell_type": "markdown",
   "metadata": {},
   "source": [
    "Para calcular a **coeficiente de variação** é necessário ter a média, que neste caso, é um cálculo entre a **frequencia e o ponto_medio**. \n",
    "\n",
    "\\begin{equation*}\n",
    "\\bar{x}= \\frac {(90*30)  +  (110*80) + (130*40) + (150*10) + (170*4) + (190*6) }{170} \n",
    "\\end{equation*}\n",
    "\n",
    "E o resultadado da **média = 117,76**\n"
   ]
  },
  {
   "cell_type": "markdown",
   "metadata": {},
   "source": [
    "Então o coeficiente de varição é :\n",
    "\n",
    "\\begin{equation*}\n",
    "cv = \\frac {d}{s} \n",
    "\\end{equation*}\n",
    "\n",
    "Substituindo os valores de **d** pelo desvio padrão e de **x-barra** pelo valor da média , temos:\n",
    "\n",
    "\\begin{equation*}\n",
    "cv = \\frac {22,56}{117,76} \n",
    "\\end{equation*}\n",
    "\n",
    "\n",
    "O valor de **cv = 0,19157** ou **19,16%**"
   ]
  }
 ],
 "metadata": {
  "kernelspec": {
   "display_name": "Python 3",
   "language": "python",
   "name": "python3"
  },
  "language_info": {
   "codemirror_mode": {
    "name": "ipython",
    "version": 3
   },
   "file_extension": ".py",
   "mimetype": "text/x-python",
   "name": "python",
   "nbconvert_exporter": "python",
   "pygments_lexer": "ipython3",
   "version": "3.7.4"
  }
 },
 "nbformat": 4,
 "nbformat_minor": 2
}
